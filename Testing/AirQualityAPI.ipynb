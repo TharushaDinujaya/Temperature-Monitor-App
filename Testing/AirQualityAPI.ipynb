{
 "cells": [
  {
   "cell_type": "code",
   "execution_count": 5,
   "metadata": {},
   "outputs": [],
   "source": [
    "import requests"
   ]
  },
  {
   "cell_type": "code",
   "execution_count": 9,
   "metadata": {},
   "outputs": [],
   "source": [
    "api_url = 'http://api.openweathermap.org/data/2.5/air_pollution?lat=6.05352&lon=80.22098&appid=59632c44384fd3104ed01ce7f3510d50'"
   ]
  },
  {
   "cell_type": "code",
   "execution_count": 10,
   "metadata": {},
   "outputs": [],
   "source": [
    "response = requests.get(api_url)"
   ]
  },
  {
   "cell_type": "code",
   "execution_count": 11,
   "metadata": {},
   "outputs": [
    {
     "data": {
      "text/plain": [
       "{'coord': {'lon': 80.221, 'lat': 6.0535},\n",
       " 'list': [{'main': {'aqi': 1},\n",
       "   'components': {'co': 327.11,\n",
       "    'no': 0.76,\n",
       "    'no2': 5.1,\n",
       "    'o3': 30.4,\n",
       "    'so2': 0.78,\n",
       "    'pm2_5': 1.99,\n",
       "    'pm10': 4.54,\n",
       "    'nh3': 0.7},\n",
       "   'dt': 1717581900}]}"
      ]
     },
     "execution_count": 11,
     "metadata": {},
     "output_type": "execute_result"
    }
   ],
   "source": [
    "response.json()"
   ]
  }
 ],
 "metadata": {
  "kernelspec": {
   "display_name": ".venv",
   "language": "python",
   "name": "python3"
  },
  "language_info": {
   "codemirror_mode": {
    "name": "ipython",
    "version": 3
   },
   "file_extension": ".py",
   "mimetype": "text/x-python",
   "name": "python",
   "nbconvert_exporter": "python",
   "pygments_lexer": "ipython3",
   "version": "3.10.7"
  }
 },
 "nbformat": 4,
 "nbformat_minor": 2
}
